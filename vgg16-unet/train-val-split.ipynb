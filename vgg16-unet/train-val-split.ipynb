{
 "cells": [
  {
   "cell_type": "code",
   "execution_count": 1,
   "metadata": {
    "collapsed": true
   },
   "outputs": [],
   "source": [
    "import os\n",
    "import numpy as np\n",
    "import cv2\n",
    "import glob\n",
    "import itertools\n",
    "import datetime\n",
    "from matplotlib import pyplot as plt\n",
    "from sklearn.model_selection import train_test_split\n",
    "from shutil import copy, copyfile\n",
    "\n",
    "%matplotlib inline"
   ]
  },
  {
   "cell_type": "code",
   "execution_count": 2,
   "metadata": {
    "collapsed": true
   },
   "outputs": [],
   "source": [
    "data_path = \"../../datasets/train-val-split/\"\n",
    "\n",
    "images_path = \"../../datasets/train-test-data/training-set-images/\"\n",
    "segs_path = \"../../datasets/train-test-data/training-set-masks/\"\n",
    "\n",
    "train_images_path = \"train/\"\n",
    "train_segs_path = \"trainmask/\"\n",
    "\n",
    "val_images_path = \"val/\"\n",
    "val_segs_path = \"valmask/\""
   ]
  },
  {
   "cell_type": "code",
   "execution_count": 3,
   "metadata": {
    "collapsed": true
   },
   "outputs": [],
   "source": [
    "images = glob.glob(images_path + \"*.png\")\n",
    "images.sort()\n",
    "segmentations = glob.glob(segs_path + \"*.png\")\n",
    "segmentations.sort()\n",
    "assert len(images) == len(segmentations)"
   ]
  },
  {
   "cell_type": "code",
   "execution_count": 4,
   "metadata": {
    "collapsed": true
   },
   "outputs": [],
   "source": [
    "X_train, X_val, y_train, y_val = train_test_split(images, segmentations, test_size=0.2, random_state=42)"
   ]
  },
  {
   "cell_type": "code",
   "execution_count": 5,
   "metadata": {
    "collapsed": true
   },
   "outputs": [],
   "source": [
    "for img, seg in zip(X_train, y_train):\n",
    "    assert (img.split('/')[-1].split(\".\")[0] == seg.split('/')[-1].split(\".\")[0])\n",
    "    copy(img, data_path + train_images_path)\n",
    "    copy(seg, data_path + train_segs_path)"
   ]
  },
  {
   "cell_type": "code",
   "execution_count": 6,
   "metadata": {
    "collapsed": true
   },
   "outputs": [],
   "source": [
    "for img, seg in zip(X_val, y_val):\n",
    "    assert (img.split('/')[-1].split(\".\")[0] == seg.split('/')[-1].split(\".\")[0])\n",
    "    copy(img, data_path + val_images_path)\n",
    "    copy(seg, data_path + val_segs_path)"
   ]
  }
 ],
 "metadata": {
  "kernelspec": {
   "display_name": "Python 3",
   "language": "python",
   "name": "python3"
  },
  "language_info": {
   "codemirror_mode": {
    "name": "ipython",
    "version": 3
   },
   "file_extension": ".py",
   "mimetype": "text/x-python",
   "name": "python",
   "nbconvert_exporter": "python",
   "pygments_lexer": "ipython3",
   "version": "3.6.8"
  },
  "toc": {
   "base_numbering": 1,
   "nav_menu": {},
   "number_sections": true,
   "sideBar": true,
   "skip_h1_title": false,
   "title_cell": "Table of Contents",
   "title_sidebar": "Contents",
   "toc_cell": false,
   "toc_position": {},
   "toc_section_display": true,
   "toc_window_display": false
  }
 },
 "nbformat": 4,
 "nbformat_minor": 2
}
